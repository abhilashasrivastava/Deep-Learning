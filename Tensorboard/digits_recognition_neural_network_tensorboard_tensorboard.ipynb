{
 "cells": [
  {
   "cell_type": "markdown",
   "metadata": {},
   "source": [
    "<h2 style=\"color:blue\" align=\"center\">Tensorboard demo using handwritten digits classification using neural network</h2>"
   ]
  },
  {
   "cell_type": "markdown",
   "metadata": {},
   "source": [
    "In this notebook we will classify handwritten digits using a simple neural network which has only input and output layers. We will than add a hidden layer and see how the performance of the model improves"
   ]
  },
  {
   "cell_type": "code",
   "execution_count": 1,
   "metadata": {},
   "outputs": [],
   "source": [
    "import tensorflow as tf\n",
    "from tensorflow import keras\n",
    "import matplotlib.pyplot as plt\n",
    "%matplotlib inline\n",
    "import numpy as np"
   ]
  },
  {
   "cell_type": "code",
   "execution_count": 2,
   "metadata": {},
   "outputs": [],
   "source": [
    "(X_train, y_train) , (X_test, y_test) = keras.datasets.mnist.load_data()"
   ]
  },
  {
   "cell_type": "code",
   "execution_count": 3,
   "metadata": {},
   "outputs": [
    {
     "data": {
      "text/plain": [
       "60000"
      ]
     },
     "execution_count": 3,
     "metadata": {},
     "output_type": "execute_result"
    }
   ],
   "source": [
    "len(X_train)"
   ]
  },
  {
   "cell_type": "code",
   "execution_count": 4,
   "metadata": {},
   "outputs": [
    {
     "data": {
      "text/plain": [
       "10000"
      ]
     },
     "execution_count": 4,
     "metadata": {},
     "output_type": "execute_result"
    }
   ],
   "source": [
    "len(X_test)"
   ]
  },
  {
   "cell_type": "code",
   "execution_count": 5,
   "metadata": {},
   "outputs": [
    {
     "data": {
      "text/plain": [
       "(28, 28)"
      ]
     },
     "execution_count": 5,
     "metadata": {},
     "output_type": "execute_result"
    }
   ],
   "source": [
    "X_train[0].shape"
   ]
  },
  {
   "cell_type": "code",
   "execution_count": 6,
   "metadata": {},
   "outputs": [
    {
     "data": {
      "text/plain": [
       "<matplotlib.image.AxesImage at 0x1ef75f23d90>"
      ]
     },
     "execution_count": 6,
     "metadata": {},
     "output_type": "execute_result"
    },
    {
     "data": {
      "image/png": "[encoded data removed]",
      "text/plain": [
       "<Figure size 480x480 with 1 Axes>"
      ]
     },
     "metadata": {},
     "output_type": "display_data"
    }
   ],
   "source": [
    "plt.matshow(X_train[0])"
   ]
  },
  {
   "cell_type": "code",
   "execution_count": 7,
   "metadata": {},
   "outputs": [
    {
     "data": {
      "text/plain": [
       "5"
      ]
     },
     "execution_count": 7,
     "metadata": {},
     "output_type": "execute_result"
    }
   ],
   "source": [
    "y_train[0]"
   ]
  },
  {
   "cell_type": "code",
   "execution_count": 8,
   "metadata": {},
   "outputs": [],
   "source": [
    "X_train = X_train / 255\n",
    "X_test = X_test / 255"
   ]
  },
  {
   "cell_type": "code",
   "execution_count": 9,
   "metadata": {},
   "outputs": [],
   "source": [
    "X_train_flattened = X_train.reshape(len(X_train), 28*28)\n",
    "X_test_flattened = X_test.reshape(len(X_test), 28*28)"
   ]
  },
  {
   "cell_type": "code",
   "execution_count": 10,
   "metadata": {},
   "outputs": [
    {
     "data": {
      "text/plain": [
       "(60000, 784)"
      ]
     },
     "execution_count": 10,
     "metadata": {},
     "output_type": "execute_result"
    }
   ],
   "source": [
    "X_train_flattened.shape"
   ]
  },
  {
   "cell_type": "markdown",
   "metadata": {},
   "source": [
    "<h3 style='color:purple'>Using Flatten layer so that we don't have to call .reshape on input dataset</h3>"
   ]
  },
  {
   "cell_type": "code",
   "execution_count": 17,
   "metadata": {
    "scrolled": false
   },
   "outputs": [
    {
     "name": "stdout",
     "output_type": "stream",
     "text": [
      "Epoch 1/5\n",
      "1875/1875 [==============================] - 11s 6ms/step - loss: 0.6398 - accuracy: 0.8387\n",
      "Epoch 2/5\n",
      "1875/1875 [==============================] - 8s 4ms/step - loss: 0.3409 - accuracy: 0.9042\n",
      "Epoch 3/5\n",
      "1875/1875 [==============================] - 8s 4ms/step - loss: 0.2947 - accuracy: 0.9171\n",
      "Epoch 4/5\n",
      "1875/1875 [==============================] - 11s 6ms/step - loss: 0.2659 - accuracy: 0.9255\n",
      "Epoch 5/5\n",
      "1875/1875 [==============================] - 9s 5ms/step - loss: 0.2436 - accuracy: 0.9325\n"
     ]
    },
    {
     "data": {
      "text/plain": [
       "<keras.src.callbacks.History at 0x1ef257c3e50>"
      ]
     },
     "execution_count": 17,
     "metadata": {},
     "output_type": "execute_result"
    }
   ],
   "source": [
    "model = keras.Sequential([\n",
    "    keras.layers.Flatten(input_shape=(28, 28)),\n",
    "    keras.layers.Dense(100, activation='relu'),\n",
    "    keras.layers.Dense(10, activation='sigmoid')\n",
    "])\n",
    "\n",
    "tb_callback = tf.keras.callbacks.TensorBoard(log_dir=\"logs/SGD\", histogram_freq=1)\n",
    "\n",
    "model.compile(optimizer='SGD',\n",
    "              loss='sparse_categorical_crossentropy',\n",
    "              metrics=['accuracy'])\n",
    "model.fit(X_train, y_train, epochs=5, callbacks=[tb_callback])"
   ]
  },
  {
   "cell_type": "code",
   "execution_count": 12,
   "metadata": {},
   "outputs": [],
   "source": [
    "# %load_ext tensorboard\n",
    "# %tensorboard --logdir logs/fit"
   ]
  },
  {
   "cell_type": "markdown",
   "metadata": {},
   "source": [
    "Either run above inline magic or go to git bash or your command prompt and type below to run it,\n",
    "`tensorboard --logdir logs/`\n",
    "This will launch tensorboard at this url which you can open in your browser `http://localhost:6006/`"
   ]
  },
  {
   "cell_type": "code",
   "execution_count": 13,
   "metadata": {},
   "outputs": [
    {
     "data": {
      "text/plain": [
       "[array([[ 0.07848084,  0.0637615 , -0.07719681, ...,  0.02666408,\n",
       "         -0.07870209, -0.04922795],\n",
       "        [-0.0451895 ,  0.03460073, -0.07948199, ..., -0.01874217,\n",
       "         -0.02884562,  0.01414193],\n",
       "        [-0.0737766 , -0.00221521, -0.08203596, ...,  0.07755119,\n",
       "          0.03197467,  0.0346235 ],\n",
       "        ...,\n",
       "        [ 0.0732359 ,  0.01921575, -0.08104745, ...,  0.01937748,\n",
       "          0.03200802,  0.02870973],\n",
       "        [ 0.07440996, -0.06095089,  0.04474841, ..., -0.07552098,\n",
       "         -0.08134349,  0.06242806],\n",
       "        [ 0.04827479,  0.05297382,  0.06770004, ..., -0.02417724,\n",
       "         -0.03357818,  0.03124314]], dtype=float32),\n",
       " array([ 0.02062528,  0.11175661,  0.04112726,  0.13766636, -0.07958476,\n",
       "         0.02337895,  0.06766786, -0.00204949,  0.14348468,  0.18819521,\n",
       "        -0.07983966, -0.16954307,  0.01643891,  0.13972278,  0.04294486,\n",
       "        -0.01164768, -0.01741035,  0.13495736,  0.03176629, -0.09394876,\n",
       "        -0.05811829,  0.15810947, -0.05615604,  0.00734393,  0.04358008,\n",
       "         0.13913967,  0.09072978,  0.19489698,  0.06604213, -0.01657496,\n",
       "         0.06508063, -0.06556126, -0.11491746, -0.05427034,  0.21158138,\n",
       "         0.02300214, -0.0663373 ,  0.00995721, -0.08730127,  0.02296226,\n",
       "         0.06193541, -0.07458656,  0.0076883 ,  0.12580591, -0.05746435,\n",
       "         0.05581598, -0.15632246, -0.14112371,  0.06974868, -0.01044971,\n",
       "         0.06359407,  0.17464808,  0.11125127,  0.20833293,  0.06693945,\n",
       "        -0.06174416,  0.24023633,  0.05098508, -0.02644478,  0.01345723,\n",
       "         0.08461226, -0.05723448, -0.00967426,  0.16254058,  0.0560371 ,\n",
       "        -0.02337538,  0.1954699 , -0.04623996,  0.03345551,  0.06705217,\n",
       "         0.11833163,  0.00345273,  0.02999392, -0.10273741, -0.05397486,\n",
       "         0.0116382 ,  0.09768999,  0.03755099,  0.06825375, -0.12994702,\n",
       "         0.01534721, -0.13591796,  0.06095843, -0.01603715, -0.11798278,\n",
       "         0.07755735, -0.00159894,  0.16072887, -0.06828514,  0.02959907,\n",
       "        -0.04080466,  0.04046707, -0.05447705,  0.02830497,  0.00194136,\n",
       "         0.00520834,  0.07226058, -0.04669671,  0.07751422,  0.1011665 ],\n",
       "       dtype=float32),\n",
       " array([[ 1.10244691e-01, -3.20608348e-01, -1.42917469e-01,\n",
       "         -1.31261006e-01, -2.15983525e-01,  6.51169866e-02,\n",
       "          1.54736340e-01, -2.68494189e-01,  1.35063365e-01,\n",
       "         -1.00031994e-01],\n",
       "        [ 1.44742414e-01,  2.42966011e-01, -6.66120052e-01,\n",
       "         -2.37594888e-01,  2.75292933e-01,  2.55109668e-01,\n",
       "          5.95222451e-02,  2.57345401e-02,  1.95641965e-01,\n",
       "          2.34210297e-01],\n",
       "        [ 7.92771429e-02, -2.08491564e-01,  1.53125003e-01,\n",
       "          2.89205700e-01,  2.67048955e-01,  7.31688514e-02,\n",
       "          1.05538882e-01, -4.88738537e-01,  2.46714838e-02,\n",
       "         -3.05029392e-01],\n",
       "        [-4.35680956e-01, -3.18603128e-01, -8.42423066e-02,\n",
       "         -9.76184160e-02,  1.67094007e-01,  1.07602388e-01,\n",
       "          2.03308418e-01, -1.63941383e-01,  1.63196713e-01,\n",
       "         -4.18817028e-02],\n",
       "        [ 8.67123455e-02, -3.84740829e-01, -2.21240759e-01,\n",
       "          1.79847062e-01,  9.99587588e-03,  3.47688212e-03,\n",
       "         -2.68050045e-01,  1.27248600e-01,  4.51468118e-02,\n",
       "          1.96482792e-01],\n",
       "        [-2.91402698e-01, -5.21740258e-01,  3.26665998e-01,\n",
       "         -1.49994686e-01,  1.98280647e-01, -4.67904061e-01,\n",
       "          1.81862772e-01, -1.23146713e-01,  1.92476183e-01,\n",
       "          1.88595831e-01],\n",
       "        [-4.00148988e-01,  3.70114893e-01,  2.57381856e-01,\n",
       "          1.57184526e-01,  9.99541953e-02, -8.89631152e-01,\n",
       "         -6.00807369e-01, -2.66750455e-01, -2.67806262e-01,\n",
       "          2.72223026e-01],\n",
       "        [-2.53772318e-01, -2.94432044e-01, -2.12370068e-01,\n",
       "         -1.48361966e-01, -1.24969773e-01, -2.33314440e-01,\n",
       "          4.86629456e-02, -2.10415080e-01,  2.58285701e-01,\n",
       "          1.30793288e-01],\n",
       "        [ 1.64081872e-01, -5.81512451e-01,  2.51652766e-02,\n",
       "         -4.19258565e-01,  2.50428826e-01,  1.24409690e-01,\n",
       "         -1.04057766e-01, -1.50112445e-02,  7.03663304e-02,\n",
       "         -2.48132020e-01],\n",
       "        [-2.86857992e-01, -2.76305377e-01, -3.79574686e-01,\n",
       "         -1.61238506e-01, -8.43601942e-01,  6.76615059e-01,\n",
       "         -8.37163627e-02,  2.53460795e-01, -6.89526871e-02,\n",
       "         -1.90236773e-02],\n",
       "        [ 2.16735840e-01, -5.50455391e-01,  2.14329094e-01,\n",
       "          1.70004264e-01, -2.71411836e-01,  4.57809456e-02,\n",
       "         -2.14554578e-01,  2.40533680e-01,  1.56262200e-02,\n",
       "          9.80995744e-02],\n",
       "        [ 3.31009477e-01, -3.72084141e-01,  2.13068634e-01,\n",
       "          2.51291186e-01, -5.67339957e-01, -1.25686586e-01,\n",
       "         -2.86302656e-01,  2.22242475e-01,  9.07800794e-02,\n",
       "          1.97992235e-01],\n",
       "        [-5.15868738e-02,  1.67485535e-01, -4.87625688e-01,\n",
       "         -8.22684839e-02,  6.76535517e-02,  4.71674532e-01,\n",
       "          2.50090659e-01, -1.01360351e-01, -6.44997835e-01,\n",
       "          1.63419738e-01],\n",
       "        [ 1.19824313e-01,  7.49845356e-02,  3.26273799e-01,\n",
       "         -2.98322231e-01,  3.24154764e-01,  1.52145013e-01,\n",
       "         -4.12975162e-01, -5.75080693e-01, -1.38343005e-02,\n",
       "         -1.48003772e-01],\n",
       "        [-1.67459726e-01,  1.48381367e-01,  3.00648302e-01,\n",
       "         -1.77983895e-01, -5.13202371e-03, -1.34414420e-01,\n",
       "         -3.77007842e-01,  1.19407497e-01,  1.31755203e-01,\n",
       "          1.28431559e-01],\n",
       "        [-5.16364992e-01,  3.01255316e-01, -1.62627399e-01,\n",
       "         -5.11458933e-01,  6.58616841e-01, -3.76411617e-01,\n",
       "         -3.86211246e-01,  4.35532421e-01,  9.93766859e-02,\n",
       "         -4.09959167e-01],\n",
       "        [-2.19465360e-01, -1.79560617e-01,  1.61903203e-01,\n",
       "          9.08503234e-02, -1.46028697e-01, -1.84888959e-01,\n",
       "         -4.41166526e-03, -2.17259467e-01,  1.29129589e-01,\n",
       "         -1.56324521e-01],\n",
       "        [-4.28072274e-01,  2.60291636e-01,  1.78668082e-01,\n",
       "          1.06026255e-01, -2.99996257e-01,  1.31535769e-01,\n",
       "          1.74964681e-01, -3.31123061e-02,  2.13430244e-02,\n",
       "         -6.72961831e-01],\n",
       "        [-8.97371173e-02, -2.90015280e-01,  2.37503260e-01,\n",
       "          1.73439071e-01, -2.46623397e-01,  2.23024651e-01,\n",
       "         -8.70708376e-02, -3.23409796e-01,  2.74747938e-01,\n",
       "         -4.85114865e-02],\n",
       "        [ 3.40092599e-01,  4.34582263e-01, -6.27522767e-01,\n",
       "         -4.58928496e-01,  1.05307601e-01, -2.42507160e-01,\n",
       "          2.39706188e-01,  5.24539798e-02, -5.56857705e-01,\n",
       "          7.49977529e-02],\n",
       "        [ 4.01525974e-01, -3.31029505e-01,  3.78547162e-01,\n",
       "         -2.96378583e-01, -6.21850453e-02, -7.95105159e-01,\n",
       "         -2.34444439e-01,  3.02525222e-01,  1.89847961e-01,\n",
       "          2.10465208e-01],\n",
       "        [-3.96507412e-01,  3.00938815e-01, -2.09523737e-01,\n",
       "         -2.01556131e-01,  4.83675450e-01, -4.69100773e-01,\n",
       "          1.60451576e-01,  3.74509126e-01, -3.07939589e-01,\n",
       "         -9.08183277e-01],\n",
       "        [-9.40333456e-02, -2.49042839e-01, -2.40811303e-01,\n",
       "          5.88382065e-01, -7.83816695e-01,  1.02869786e-01,\n",
       "          1.37295708e-01,  6.43648878e-02, -2.31800139e-01,\n",
       "         -3.01254898e-01],\n",
       "        [-2.16716975e-01,  1.17032990e-01,  6.60295486e-02,\n",
       "         -2.01386467e-01,  9.51203480e-02, -1.74156129e-01,\n",
       "          2.07847580e-01, -3.85103822e-01,  2.92558879e-01,\n",
       "          1.64929986e-01],\n",
       "        [ 8.93535540e-02,  1.29782990e-01,  3.57388824e-01,\n",
       "         -4.77586120e-01, -1.91503912e-01, -4.75187391e-01,\n",
       "          8.09313133e-02, -3.19831050e-03,  4.70595449e-01,\n",
       "         -6.77227736e-01],\n",
       "        [-1.37437224e-01,  1.34151652e-01, -1.58760013e-04,\n",
       "         -5.69881916e-01,  1.42975837e-01, -2.52233166e-02,\n",
       "         -3.34711671e-01, -1.69975266e-01,  3.92579250e-02,\n",
       "          1.25523224e-01],\n",
       "        [-1.14371590e-01,  5.09926081e-01,  9.32560191e-02,\n",
       "         -4.24491148e-03,  1.47464409e-01, -5.92606515e-02,\n",
       "         -1.90964162e-01,  3.61701190e-01, -5.35281956e-01,\n",
       "         -3.62746328e-01],\n",
       "        [-3.28657836e-01,  8.49941671e-02,  2.57491112e-01,\n",
       "         -5.00555694e-01,  2.07675055e-01, -8.03808740e-04,\n",
       "          5.54741398e-02, -3.62950683e-01, -3.28687549e-01,\n",
       "         -8.61143246e-02],\n",
       "        [-5.83017886e-01, -1.70582220e-01, -4.51588243e-01,\n",
       "          7.19702840e-02, -3.14848959e-01,  5.87308764e-01,\n",
       "         -1.89158067e-01,  1.87732019e-02, -4.38256413e-01,\n",
       "          9.24775824e-02],\n",
       "        [-1.45301029e-01,  3.82236242e-01, -7.75406778e-01,\n",
       "          3.55534941e-01, -1.11581713e-01, -4.42392439e-01,\n",
       "         -1.35183468e-01,  7.25250691e-02, -1.54030547e-01,\n",
       "          1.83580503e-01],\n",
       "        [ 1.43681914e-01,  1.39021069e-01,  1.31449074e-01,\n",
       "          2.05467284e-01,  8.23436007e-02,  4.04108651e-02,\n",
       "          1.57978475e-01, -1.98002428e-01,  2.24374190e-01,\n",
       "         -2.05021635e-01],\n",
       "        [ 1.02424808e-01,  1.13139391e-01, -2.20821679e-01,\n",
       "         -9.00666490e-02,  8.13012049e-02, -2.77675718e-01,\n",
       "          9.91922617e-02,  3.47497433e-01, -4.27554131e-01,\n",
       "          1.48413852e-02],\n",
       "        [ 1.61998004e-01,  3.46694499e-01,  4.43346709e-01,\n",
       "          1.41195461e-01, -1.97268590e-01, -6.67039335e-01,\n",
       "         -5.67149758e-01,  1.01575956e-01,  1.81911796e-01,\n",
       "          2.15692371e-01],\n",
       "        [-6.09171987e-02,  1.58732697e-01, -4.06454265e-01,\n",
       "          1.07460260e-01,  1.66313127e-01, -3.06505024e-01,\n",
       "         -3.64685267e-01,  2.94117164e-02, -1.62744939e-01,\n",
       "          2.09716856e-01],\n",
       "        [-2.70667851e-01,  5.08687794e-01, -3.25761795e-01,\n",
       "         -5.84097207e-01, -1.23407543e-01,  3.95134091e-01,\n",
       "          2.37646595e-01,  3.80475283e-01, -4.55131233e-01,\n",
       "         -6.54619992e-01],\n",
       "        [ 7.67759979e-02,  3.94815624e-01, -3.47904056e-01,\n",
       "         -3.87891978e-01, -6.10741735e-01,  5.65590799e-01,\n",
       "          3.26382130e-01,  2.93879379e-02, -2.58096755e-01,\n",
       "          3.46821994e-01],\n",
       "        [ 2.06239134e-01, -8.73016473e-03,  8.37047249e-02,\n",
       "          1.78633481e-02, -4.82528239e-01,  1.56003209e-02,\n",
       "         -5.74631810e-01,  1.38230667e-01, -1.11257970e-01,\n",
       "         -8.98275822e-02],\n",
       "        [ 5.30043244e-02,  9.12796482e-02,  2.06064448e-01,\n",
       "         -1.82477251e-01,  1.23308145e-01, -6.57513797e-01,\n",
       "         -9.05200839e-02, -4.65920754e-02, -2.25251410e-02,\n",
       "          3.16132277e-01],\n",
       "        [ 1.91740915e-01,  3.23108792e-01, -2.89708465e-01,\n",
       "         -1.51701391e-01,  2.33469233e-01, -9.11960229e-02,\n",
       "         -2.20016420e-01,  1.92840800e-01,  4.83658984e-02,\n",
       "          1.63360953e-01],\n",
       "        [ 3.65830630e-01, -7.55588531e-01,  1.59031332e-01,\n",
       "          1.26462191e-01, -6.57683194e-01, -9.14714113e-02,\n",
       "          4.72887009e-01, -1.79825559e-01,  4.36411165e-02,\n",
       "          2.19319016e-01],\n",
       "        [-3.10134757e-02, -2.36658573e-01,  1.83382660e-01,\n",
       "         -4.51638326e-02,  2.47384012e-01, -9.94406268e-02,\n",
       "         -3.27423483e-01,  9.13204253e-02,  1.27245426e-01,\n",
       "          2.17185870e-01],\n",
       "        [-4.52030063e-01, -1.95800066e-01,  1.77803084e-01,\n",
       "          3.19762677e-01, -3.42393160e-01,  1.78169608e-01,\n",
       "         -2.89187670e-01, -8.58742669e-02, -6.57852590e-02,\n",
       "          2.36767605e-01],\n",
       "        [-5.63629687e-01, -1.66083887e-01,  3.16258699e-01,\n",
       "          2.85900950e-01, -2.37902805e-01,  1.78015873e-01,\n",
       "         -4.22658026e-01, -2.75860608e-01, -3.60603631e-01,\n",
       "          3.66553038e-01],\n",
       "        [-2.70264208e-01,  5.12560196e-02,  8.13051090e-02,\n",
       "          1.22726098e-01, -9.50947925e-02,  5.96578941e-02,\n",
       "         -1.56877831e-01,  2.11697370e-02,  2.29383931e-01,\n",
       "          6.66106194e-02],\n",
       "        [ 1.48447335e-01, -2.37186346e-02,  3.95111561e-01,\n",
       "          2.14294851e-01,  1.52636960e-01, -6.81470335e-02,\n",
       "          1.65019616e-01,  3.49114798e-02, -6.83890939e-01,\n",
       "         -5.00106931e-01],\n",
       "        [-8.81775171e-02, -9.78912413e-02,  1.72243163e-01,\n",
       "         -4.68777597e-01,  2.31143981e-01, -3.01172405e-01,\n",
       "          2.35147297e-01,  2.75426000e-01,  1.88600644e-01,\n",
       "         -5.56123853e-02],\n",
       "        [ 2.16873646e-01, -2.42435440e-01,  2.41542831e-01,\n",
       "          6.85960054e-02, -1.08744942e-01, -5.19022159e-02,\n",
       "          1.26521289e-01, -6.04234457e-01, -8.79925862e-02,\n",
       "          3.25147100e-02],\n",
       "        [ 2.85751253e-01, -6.45219684e-01, -3.10881019e-01,\n",
       "         -4.75371331e-01,  1.19338036e-01, -1.23730771e-01,\n",
       "          2.62016714e-01,  7.70778432e-02, -2.14012340e-01,\n",
       "          2.99111545e-01],\n",
       "        [-2.38561660e-01,  3.22728008e-01, -3.81936319e-02,\n",
       "         -4.85327631e-01,  2.11160645e-01,  1.15126491e-01,\n",
       "         -2.16971338e-01,  3.14133912e-01,  6.04332909e-02,\n",
       "          1.13600209e-01],\n",
       "        [-5.07034004e-01,  3.93880382e-02,  1.23984978e-01,\n",
       "          1.38607055e-01, -2.90169328e-01,  4.10001904e-01,\n",
       "         -3.30125690e-01,  3.66539001e-01, -2.49590561e-01,\n",
       "         -1.01063184e-01],\n",
       "        [-9.05756533e-01,  2.02299953e-01, -4.36664641e-01,\n",
       "          2.51553118e-01,  2.92269647e-01,  1.61713511e-01,\n",
       "         -4.17160600e-01, -4.95807052e-01,  3.41861397e-02,\n",
       "          2.73841053e-01],\n",
       "        [-2.47602344e-01, -4.96859223e-01,  3.05251211e-01,\n",
       "         -2.93761849e-01,  3.06972712e-01,  1.43933982e-01,\n",
       "          6.67617694e-02, -1.69946194e-01, -5.00251710e-01,\n",
       "         -2.33687963e-02],\n",
       "        [-1.01882920e-01, -6.22249186e-01,  4.06216122e-02,\n",
       "         -1.90605327e-01,  1.45211443e-01,  1.40333503e-01,\n",
       "          2.07192928e-01, -7.14658424e-02,  3.86145920e-01,\n",
       "         -1.12417273e-01],\n",
       "        [ 1.07762679e-01,  2.93636441e-01, -7.43206441e-02,\n",
       "          1.54084340e-01, -4.01511371e-01,  2.43317574e-01,\n",
       "          3.86055291e-01,  5.31393528e-01, -5.88425815e-01,\n",
       "         -6.14096820e-01],\n",
       "        [-2.66413055e-02, -6.50835931e-02, -2.57664025e-01,\n",
       "          1.31004632e-01,  1.35000288e-01,  1.96575701e-01,\n",
       "         -2.62086302e-01,  8.19555148e-02,  2.56358743e-01,\n",
       "          6.16512671e-02],\n",
       "        [ 9.12435586e-04,  4.09928888e-01,  2.83343315e-01,\n",
       "         -4.60317582e-01, -1.67541027e-01, -2.98356265e-01,\n",
       "         -2.38839701e-01,  4.58614379e-01, -7.04149187e-01,\n",
       "         -6.76192582e-01],\n",
       "        [-3.43191117e-01,  2.15369210e-01,  1.93500027e-01,\n",
       "          1.62433535e-01,  2.72808019e-02,  5.86911626e-02,\n",
       "          1.85736001e-01, -1.91045418e-01,  2.31138304e-01,\n",
       "         -2.10532665e-01],\n",
       "        [-3.88695538e-01,  3.85389775e-01, -4.92441207e-01,\n",
       "          2.92768702e-02,  5.41109860e-01, -5.78684866e-01,\n",
       "          5.23590386e-01, -2.88311541e-02, -4.12602127e-01,\n",
       "         -1.15025871e-01],\n",
       "        [ 1.63372591e-01,  1.24407947e-01, -2.67158389e-01,\n",
       "         -2.33244509e-01, -2.26289824e-01,  5.31508066e-02,\n",
       "          2.14676023e-01, -1.98023975e-01, -1.01429000e-01,\n",
       "         -1.11545995e-01],\n",
       "        [ 3.76829743e-01, -5.50261080e-01, -1.21542431e-01,\n",
       "          2.01417714e-01,  2.25255206e-01,  3.35710138e-01,\n",
       "          1.16206825e-01, -5.52217215e-02, -2.40093932e-01,\n",
       "         -7.36634612e-01],\n",
       "        [ 2.05253989e-01, -2.92508721e-01,  5.17074883e-01,\n",
       "         -1.54991716e-01, -4.23841953e-01, -3.23001683e-01,\n",
       "         -1.37421295e-01,  2.68204421e-01, -4.21417147e-01,\n",
       "          1.80196121e-01],\n",
       "        [ 2.88553208e-01, -5.72073460e-01, -7.99280778e-02,\n",
       "         -4.36287634e-02, -1.75932616e-01, -2.73108393e-01,\n",
       "          9.72154289e-02,  1.67267814e-01,  2.04700544e-01,\n",
       "          1.86046228e-01],\n",
       "        [-2.81417549e-01, -6.49161458e-01, -5.19078374e-01,\n",
       "          9.76989493e-02,  1.33107916e-01,  4.01883870e-01,\n",
       "         -4.02440012e-01, -1.73618168e-01,  3.10510725e-01,\n",
       "          2.52271354e-01],\n",
       "        [-2.57420484e-02,  1.09625876e-01,  2.49488428e-01,\n",
       "         -5.50866067e-01,  4.71496403e-01,  4.06634361e-02,\n",
       "         -4.21399713e-01,  5.18134832e-01, -3.18375111e-01,\n",
       "          7.75033534e-02],\n",
       "        [-6.73496068e-01,  6.69625401e-02, -1.03975289e-01,\n",
       "          6.25696266e-03, -2.46829703e-01,  4.00625944e-01,\n",
       "          1.88933030e-01,  1.14611499e-01,  2.19693854e-01,\n",
       "          5.30288145e-02],\n",
       "        [-2.16938019e-01,  2.63597071e-01, -1.41396791e-01,\n",
       "          2.17965007e-01,  1.02607682e-01, -1.85573474e-01,\n",
       "         -2.47054487e-01,  2.35954329e-01, -8.71734843e-02,\n",
       "          1.24947593e-01],\n",
       "        [-4.34988797e-01,  3.41843724e-01,  1.53180987e-01,\n",
       "         -3.21202695e-01,  1.42599726e-02,  4.34275307e-02,\n",
       "          2.44312838e-01,  1.07000954e-01,  7.58385882e-02,\n",
       "         -6.16593599e-01],\n",
       "        [-2.83165928e-02,  2.33303234e-01, -6.22487962e-01,\n",
       "         -2.94605717e-02, -2.60519926e-02,  4.59146537e-02,\n",
       "          3.56459141e-01, -3.63714024e-02, -4.50001329e-01,\n",
       "          2.07428589e-01],\n",
       "        [-9.47779357e-01, -3.57045591e-01, -3.71351033e-01,\n",
       "          3.87516290e-01,  1.46489218e-01, -8.64362270e-02,\n",
       "         -8.32685649e-01, -8.11566189e-02, -2.65297294e-01,\n",
       "          1.49908155e-01],\n",
       "        [-4.13314283e-01, -2.70667613e-01,  2.55172282e-01,\n",
       "          7.41916239e-01, -3.44250709e-01, -3.15160453e-01,\n",
       "         -6.30201459e-01, -4.69465286e-01, -2.92607158e-01,\n",
       "         -3.29164863e-02],\n",
       "        [-3.46300513e-01,  3.17112058e-01,  2.57372409e-01,\n",
       "         -2.24439451e-03, -5.85875213e-01, -2.74525225e-01,\n",
       "         -9.12317708e-02,  4.35038745e-01, -6.65880561e-01,\n",
       "         -1.22944713e+00],\n",
       "        [-4.50913876e-01,  3.24594140e-01,  3.77090663e-01,\n",
       "          3.81670706e-02, -4.57133055e-01, -5.43486103e-02,\n",
       "         -1.39058158e-01,  1.86676353e-01, -9.49438512e-02,\n",
       "         -7.77112722e-01],\n",
       "        [ 1.95843399e-01, -3.80157530e-01,  1.48398802e-01,\n",
       "         -4.38995361e-01,  3.11573148e-01,  3.19816843e-02,\n",
       "          2.87934601e-01, -1.34363145e-01, -3.09180133e-02,\n",
       "         -3.15447062e-01],\n",
       "        [-3.63827914e-01, -1.77754015e-01,  1.00828439e-01,\n",
       "          2.58991063e-01, -2.54041612e-01, -3.15742463e-01,\n",
       "          2.07112387e-01,  1.26600996e-01,  1.23124555e-01,\n",
       "         -1.16340555e-01],\n",
       "        [ 1.13195136e-01, -2.96539068e-01, -1.43864408e-01,\n",
       "          1.09527573e-01,  9.38874483e-02,  4.56582718e-02,\n",
       "         -6.29321206e-03, -3.34245324e-01,  1.91183865e-01,\n",
       "         -4.25916873e-02],\n",
       "        [-3.35298121e-01,  1.07690401e-01, -3.16121668e-01,\n",
       "          1.43777594e-01, -2.13901788e-01,  2.40084901e-01,\n",
       "          4.03874628e-02,  1.67698443e-01,  2.09438980e-01,\n",
       "          2.42575575e-02],\n",
       "        [-1.32448420e-01, -1.59149155e-01, -9.38110575e-02,\n",
       "         -4.70588565e-01,  1.87104926e-01,  1.75098315e-01,\n",
       "          2.96766400e-01, -4.73539591e-01,  2.57654160e-01,\n",
       "         -7.24995881e-03],\n",
       "        [-1.79772124e-01, -1.11747064e-01, -1.64809510e-01,\n",
       "         -4.00731713e-01,  5.82051873e-01, -1.11331403e-01,\n",
       "          1.52016610e-01, -4.98888522e-01,  2.39809185e-01,\n",
       "         -5.02127826e-01],\n",
       "        [ 9.92671549e-02, -1.37807593e-01,  3.18058759e-01,\n",
       "          9.13553983e-02,  3.96569856e-02,  2.64517277e-01,\n",
       "         -5.44027209e-01,  2.24313110e-01, -3.31934571e-01,\n",
       "          1.33820280e-01],\n",
       "        [ 3.01909477e-01, -3.55051219e-01, -2.35233754e-01,\n",
       "         -2.19749540e-01,  1.15544915e-01, -3.93095911e-01,\n",
       "          3.89847815e-01, -1.47706658e-01, -6.28967956e-02,\n",
       "          2.44389772e-02],\n",
       "        [ 2.20248714e-01,  1.57725528e-01,  3.19339752e-01,\n",
       "          1.32977730e-05, -8.23968887e-01,  2.45496005e-01,\n",
       "          1.32839292e-01, -2.29597494e-01, -2.48620197e-01,\n",
       "         -3.55169699e-02],\n",
       "        [ 1.03696838e-01, -1.98853686e-01, -2.19106898e-02,\n",
       "          2.07514971e-01, -4.41467047e-01, -5.08750156e-02,\n",
       "          1.66626349e-02,  4.14746925e-02,  5.81445359e-02,\n",
       "         -1.11303538e-01],\n",
       "        [-3.19269240e-01, -5.55112720e-01,  3.03112745e-01,\n",
       "          2.68827766e-01, -4.47479904e-01,  6.20724142e-01,\n",
       "         -2.14019537e-01, -5.25329299e-02, -1.15275972e-01,\n",
       "          1.86697647e-01],\n",
       "        [-9.47289690e-02,  5.09184413e-02, -4.82854694e-01,\n",
       "          5.13446808e-01, -1.93315253e-01,  2.48726666e-01,\n",
       "         -3.40025306e-01, -1.63069189e-01, -7.00721085e-01,\n",
       "          4.66133133e-02],\n",
       "        [ 1.72542199e-01,  1.25563055e-01,  2.42367744e-01,\n",
       "          1.32132202e-01,  2.60311455e-01, -5.88907719e-01,\n",
       "         -2.92099059e-01,  4.72536348e-02, -9.22107995e-02,\n",
       "          2.32328057e-01],\n",
       "        [-1.11062564e-01, -4.09139603e-01, -1.76342562e-01,\n",
       "          1.39448985e-01,  6.08932935e-02,  1.54866979e-01,\n",
       "         -3.00069273e-01, -1.11053444e-01,  1.41072690e-01,\n",
       "          2.33900752e-02],\n",
       "        [-1.26362175e-01, -4.91267517e-02,  8.58981982e-02,\n",
       "         -5.66479079e-02, -2.01235905e-01, -2.86954880e-01,\n",
       "         -2.59854048e-01, -8.82642269e-02,  9.65852216e-02,\n",
       "         -3.01144905e-02],\n",
       "        [ 2.02968474e-02, -1.04419969e-01, -4.59017575e-01,\n",
       "         -1.19417027e-01, -3.13383698e-01,  4.77839261e-01,\n",
       "         -1.74479187e-02, -3.00599843e-01, -1.44641593e-01,\n",
       "          3.45381230e-01],\n",
       "        [ 2.80849069e-01,  1.78478017e-01, -2.96300262e-01,\n",
       "         -3.64451289e-01,  1.18675977e-01, -1.88684508e-01,\n",
       "          5.44990301e-01, -1.47612080e-01, -2.63203561e-01,\n",
       "         -2.32619867e-01],\n",
       "        [ 2.01923758e-01,  1.42683834e-01, -1.47080779e-01,\n",
       "         -4.76410121e-01,  1.67944595e-01,  2.76234001e-01,\n",
       "         -2.62678385e-01,  1.38750419e-01,  1.88515872e-01,\n",
       "          2.40128234e-01],\n",
       "        [ 7.21530393e-02, -1.67183563e-01,  3.20333079e-03,\n",
       "          2.80043453e-01, -7.10466504e-01,  3.92723292e-01,\n",
       "         -4.84857589e-01, -6.48943007e-01, -3.43328834e-01,\n",
       "          1.75475523e-01],\n",
       "        [-9.40406770e-02,  7.12836981e-01, -1.50668502e-01,\n",
       "         -2.10416719e-01, -4.54596095e-02,  8.79199877e-02,\n",
       "         -1.31473660e-01,  2.46431708e-01, -2.05936447e-01,\n",
       "          1.29695520e-01],\n",
       "        [ 9.09122154e-02, -3.41769159e-02, -2.63132185e-01,\n",
       "          1.71865508e-01, -4.80847210e-02, -1.35138899e-01,\n",
       "         -2.76763499e-01,  1.25871241e-01,  2.48759270e-01,\n",
       "         -8.51324573e-02],\n",
       "        [ 2.04106808e-01,  5.75933643e-02,  8.44796151e-02,\n",
       "         -2.48461012e-02,  1.36644334e-01,  2.00429484e-02,\n",
       "         -2.25180939e-01, -2.23896697e-01,  1.93922698e-01,\n",
       "         -3.21390539e-01],\n",
       "        [ 1.96280375e-01, -3.53258967e-01,  1.18282363e-01,\n",
       "         -8.13318416e-03,  3.80338013e-01, -4.25087124e-01,\n",
       "          2.95135733e-02,  2.77176112e-01, -8.80523205e-01,\n",
       "          2.42623463e-01],\n",
       "        [ 1.93864763e-01, -2.37718254e-01,  2.36939043e-01,\n",
       "         -3.15080166e-01, -1.22142993e-01, -2.35673383e-01,\n",
       "         -5.71609475e-02,  4.23047319e-02,  3.41776796e-02,\n",
       "         -4.10085559e-01],\n",
       "        [-6.23558044e-01, -2.70336777e-01, -4.27651793e-01,\n",
       "         -2.76363581e-01,  3.09825331e-01, -8.28542709e-02,\n",
       "         -4.87611681e-01,  3.73332798e-01, -2.77409703e-01,\n",
       "          2.08444521e-01],\n",
       "        [ 2.09569961e-01, -5.29294610e-01,  3.20340574e-01,\n",
       "          3.54154468e-01, -2.09403366e-01, -2.28165820e-01,\n",
       "          1.53193831e-01, -3.87526274e-01,  1.33014426e-01,\n",
       "          5.06556332e-01],\n",
       "        [ 2.57407539e-02,  2.96837002e-01, -5.49329877e-01,\n",
       "         -7.44230524e-02, -1.48774832e-02,  1.65335268e-01,\n",
       "          3.40742171e-01,  3.37755755e-02,  2.44583204e-01,\n",
       "         -4.72487926e-01],\n",
       "        [ 1.17160305e-01,  1.51499927e-01,  4.35190618e-01,\n",
       "         -1.12298168e-01, -7.49743998e-01,  1.89475834e-01,\n",
       "         -4.68363427e-02, -3.54318507e-02,  4.39472236e-02,\n",
       "         -6.13406181e-01]], dtype=float32),\n",
       " array([-0.17675881,  0.03171521,  0.05829719, -0.04014612,  0.0660416 ,\n",
       "         0.10535052, -0.09150986, -0.08171949,  0.12270974, -0.08579294],\n",
       "       dtype=float32)]"
      ]
     },
     "execution_count": 13,
     "metadata": {},
     "output_type": "execute_result"
    }
   ],
   "source": [
    "model.get_weights()"
   ]
  },
  {
   "cell_type": "code",
   "execution_count": null,
   "metadata": {},
   "outputs": [],
   "source": []
  },
  {
   "cell_type": "code",
   "execution_count": null,
   "metadata": {},
   "outputs": [],
   "source": []
  }
 ],
 "metadata": {
  "kernelspec": {
   "display_name": "Python 3 (ipykernel)",
   "language": "python",
   "name": "python3"
  },
  "language_info": {
   "codemirror_mode": {
    "name": "ipython",
    "version": 3
   },
   "file_extension": ".py",
   "mimetype": "text/x-python",
   "name": "python",
   "nbconvert_exporter": "python",
   "pygments_lexer": "ipython3",
   "version": "3.9.13"
  }
 },
 "nbformat": 4,
 "nbformat_minor": 4
}
